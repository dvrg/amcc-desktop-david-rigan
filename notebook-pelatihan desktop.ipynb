{
 "cells": [
  {
   "cell_type": "markdown",
   "metadata": {},
   "source": [
    "# Control Flow"
   ]
  },
  {
   "cell_type": "code",
   "execution_count": 55,
   "metadata": {},
   "outputs": [
    {
     "name": "stdout",
     "output_type": "stream",
     "text": [
      "Masukan Angka Tebakan : 23\n",
      "Tebakan kamu benar!\n",
      "Program selesai.\n",
      "Selesai\n"
     ]
    }
   ],
   "source": [
    "number = 23\n",
    "running = True\n",
    "\n",
    "while running:\n",
    "    guess = int(input('Masukan Angka Tebakan : '))\n",
    "\n",
    "    if guess == number:\n",
    "        print('Tebakan kamu benar!')\n",
    "        running = False\n",
    "    elif guess < number:\n",
    "        print('Masih salah. Clue: Angka lebih besar dari', guess)\n",
    "    else:\n",
    "        print('Masih salah. Clue: Angka lebih kecil dari', guess)\n",
    "\n",
    "else:\n",
    "    print('Program selesai.')\n",
    "        \n",
    "print('Selesai')"
   ]
  },
  {
   "cell_type": "code",
   "execution_count": 57,
   "metadata": {},
   "outputs": [
    {
     "name": "stdout",
     "output_type": "stream",
     "text": [
      "1\n",
      "2\n",
      "3\n",
      "4\n",
      "Berakhir\n"
     ]
    }
   ],
   "source": [
    "for i in range(1, 5):\n",
    "    print(i)\n",
    "else:\n",
    "    print('Berakhir')"
   ]
  },
  {
   "cell_type": "code",
   "execution_count": 65,
   "metadata": {},
   "outputs": [
    {
     "name": "stdout",
     "output_type": "stream",
     "text": [
      "ketik sembarang : Keluar\n",
      "Selesai\n"
     ]
    }
   ],
   "source": [
    "while True:\n",
    "    s = input('ketik sembarang : ')\n",
    "    if s.lower() == 'keluar':\n",
    "        break\n",
    "    print('panjang karakter', len(s))\n",
    "print('Selesai')"
   ]
  },
  {
   "cell_type": "code",
   "execution_count": 67,
   "metadata": {},
   "outputs": [
    {
     "name": "stdout",
     "output_type": "stream",
     "text": [
      "ketik sembarang : a\n",
      "karakter terlalu pendek\n",
      "ketik sembarang : 4\n",
      "karakter terlalu pendek\n",
      "ketik sembarang : asdf\n",
      "Input sudah cukup panjang\n",
      "ketik sembarang : keluar\n"
     ]
    }
   ],
   "source": [
    "while True:\n",
    "    s = input('ketik sembarang : ')\n",
    "    if s.lower() == 'keluar':\n",
    "        break\n",
    "    elif len(s) < 3:\n",
    "        print('karakter terlalu pendek')\n",
    "        continue\n",
    "    print('Input sudah cukup panjang')"
   ]
  },
  {
   "cell_type": "markdown",
   "metadata": {},
   "source": [
    "# Function"
   ]
  },
  {
   "cell_type": "code",
   "execution_count": 27,
   "metadata": {},
   "outputs": [],
   "source": [
    "my_password = []\n",
    "\n",
    "def password(x):\n",
    "    \"\"\"Fungsi untuk menghitung karakter parameter fungsi\"\"\"\n",
    "    if len(x) >= 8:\n",
    "        print('password berhasil dibuat. Jumlah karakter', len(x))\n",
    "    else:\n",
    "        print('password gagal dibuat. Jumlah karakter', len(x))"
   ]
  },
  {
   "cell_type": "code",
   "execution_count": 26,
   "metadata": {},
   "outputs": [
    {
     "name": "stdout",
     "output_type": "stream",
     "text": [
      "password berhasil dibuat. Jumlah karakter 9\n"
     ]
    }
   ],
   "source": [
    "password('davidriga')"
   ]
  },
  {
   "cell_type": "markdown",
   "metadata": {},
   "source": [
    "### Default Value Parameter"
   ]
  },
  {
   "cell_type": "code",
   "execution_count": 28,
   "metadata": {},
   "outputs": [],
   "source": [
    "def luas_lingkaran(r, phi=3.14):\n",
    "    \"\"\"Fungsi untuk menghitung luas lingkaran\"\"\"\n",
    "    return phi * (r * r)"
   ]
  },
  {
   "cell_type": "code",
   "execution_count": 29,
   "metadata": {},
   "outputs": [
    {
     "data": {
      "text/plain": [
       "153.86"
      ]
     },
     "execution_count": 29,
     "metadata": {},
     "output_type": "execute_result"
    }
   ],
   "source": [
    "luas_lingkaran(7)"
   ]
  },
  {
   "cell_type": "markdown",
   "metadata": {},
   "source": [
    "### Keyword Argument"
   ]
  },
  {
   "cell_type": "code",
   "execution_count": 31,
   "metadata": {},
   "outputs": [],
   "source": [
    "def volume_balok(p, l, t):\n",
    "    \"\"\"Fungsi untuk menghitung valome balok\"\"\"\n",
    "    print('panjang :', p, 'lebar :', l, 'tinggi :', t)\n",
    "    return p*l*t"
   ]
  },
  {
   "cell_type": "code",
   "execution_count": 33,
   "metadata": {},
   "outputs": [
    {
     "name": "stdout",
     "output_type": "stream",
     "text": [
      "panjang : 1 lebar : 2 tinggi : 3\n"
     ]
    },
    {
     "data": {
      "text/plain": [
       "6"
      ]
     },
     "execution_count": 33,
     "metadata": {},
     "output_type": "execute_result"
    }
   ],
   "source": [
    "volume_balok(1, t=3, l=2)"
   ]
  },
  {
   "cell_type": "markdown",
   "metadata": {},
   "source": [
    "### VarAgs Parameter"
   ]
  },
  {
   "cell_type": "code",
   "execution_count": 50,
   "metadata": {},
   "outputs": [],
   "source": [
    "def total(*size, **nilai):\n",
    "    \"\"\"Fungsi yang menerima Variabel Argument\"\"\"\n",
    "    for i in size:\n",
    "        print('ukuran sepatu :', i)\n",
    "        \n",
    "    for key, value in nilai.items():\n",
    "        print(key.capitalize(), value)"
   ]
  },
  {
   "cell_type": "code",
   "execution_count": 51,
   "metadata": {},
   "outputs": [
    {
     "name": "stdout",
     "output_type": "stream",
     "text": [
      "ukuran sepatu : 42\n",
      "ukuran sepatu : 39\n",
      "ukuran sepatu : 43\n",
      "ukuran sepatu : 36\n",
      "David 70\n",
      "Sabil 80\n",
      "Yanuar 78\n",
      "Peby 81\n"
     ]
    }
   ],
   "source": [
    "total(42, 39, 43, 36, david=70, sabil=80, yanuar=78, peby=81)"
   ]
  },
  {
   "cell_type": "markdown",
   "metadata": {},
   "source": [
    "# Data Structure"
   ]
  },
  {
   "cell_type": "code",
   "execution_count": 84,
   "metadata": {},
   "outputs": [
    {
     "name": "stdout",
     "output_type": "stream",
     "text": [
      "Jumlah wishlist : 4\n",
      "Yaitu : Tas Earphone Sepeda Projector \n",
      "\n",
      "Diurutkan A-Z : Earphone Projector Sepeda Tas \n",
      "\n",
      "Setelah Ditambah : Earphone Projector Sepeda Tas Sepatu \n",
      "\n",
      "Setelah Beli : Earphone Sepeda Tas Sepatu \n",
      "\n"
     ]
    }
   ],
   "source": [
    "my_wishlist = ['tas', 'earphone', 'sepeda', 'projector']\n",
    "print('Jumlah wishlist :', len(my_wishlist))\n",
    "print('Yaitu :', end=' ')\n",
    "for i in my_wishlist:\n",
    "    print(i.capitalize(), end=' ')\n",
    "print('\\n')    \n",
    "my_wishlist.sort()\n",
    "print('Diurutkan A-Z :', end=' ')\n",
    "for i in my_wishlist:\n",
    "    print(i.capitalize(), end=' ')    \n",
    "print('\\n')\n",
    "my_wishlist.append('sepatu')\n",
    "print('Setelah Ditambah :', end=' ')\n",
    "for i in my_wishlist:\n",
    "    print(i.capitalize(), end=' ')    \n",
    "print('\\n')\n",
    "my_wishlist.remove('projector')\n",
    "print('Setelah Beli :', end=' ')\n",
    "for i in my_wishlist:\n",
    "    print(i.capitalize(), end=' ')    \n",
    "print('\\n')"
   ]
  },
  {
   "cell_type": "code",
   "execution_count": 81,
   "metadata": {},
   "outputs": [
    {
     "data": {
      "text/plain": [
       "['__add__',\n",
       " '__class__',\n",
       " '__contains__',\n",
       " '__delattr__',\n",
       " '__delitem__',\n",
       " '__dir__',\n",
       " '__doc__',\n",
       " '__eq__',\n",
       " '__format__',\n",
       " '__ge__',\n",
       " '__getattribute__',\n",
       " '__getitem__',\n",
       " '__gt__',\n",
       " '__hash__',\n",
       " '__iadd__',\n",
       " '__imul__',\n",
       " '__init__',\n",
       " '__init_subclass__',\n",
       " '__iter__',\n",
       " '__le__',\n",
       " '__len__',\n",
       " '__lt__',\n",
       " '__mul__',\n",
       " '__ne__',\n",
       " '__new__',\n",
       " '__reduce__',\n",
       " '__reduce_ex__',\n",
       " '__repr__',\n",
       " '__reversed__',\n",
       " '__rmul__',\n",
       " '__setattr__',\n",
       " '__setitem__',\n",
       " '__sizeof__',\n",
       " '__str__',\n",
       " '__subclasshook__',\n",
       " 'append',\n",
       " 'clear',\n",
       " 'copy',\n",
       " 'count',\n",
       " 'extend',\n",
       " 'index',\n",
       " 'insert',\n",
       " 'pop',\n",
       " 'remove',\n",
       " 'reverse',\n",
       " 'sort']"
      ]
     },
     "execution_count": 81,
     "metadata": {},
     "output_type": "execute_result"
    }
   ],
   "source": [
    "dir(list)"
   ]
  },
  {
   "cell_type": "code",
   "execution_count": 82,
   "metadata": {},
   "outputs": [
    {
     "name": "stdout",
     "output_type": "stream",
     "text": [
      "Help on method_descriptor:\n",
      "\n",
      "pop(self, index=-1, /)\n",
      "    Remove and return item at index (default last).\n",
      "    \n",
      "    Raises IndexError if list is empty or index is out of range.\n",
      "\n"
     ]
    }
   ],
   "source": [
    "help(list.pop)"
   ]
  },
  {
   "cell_type": "code",
   "execution_count": 83,
   "metadata": {},
   "outputs": [
    {
     "name": "stdout",
     "output_type": "stream",
     "text": [
      "Help on method_descriptor:\n",
      "\n",
      "remove(self, value, /)\n",
      "    Remove first occurrence of value.\n",
      "    \n",
      "    Raises ValueError if the value is not present.\n",
      "\n"
     ]
    }
   ],
   "source": [
    "help(list.remove)"
   ]
  },
  {
   "cell_type": "code",
   "execution_count": null,
   "metadata": {},
   "outputs": [],
   "source": []
  }
 ],
 "metadata": {
  "kernelspec": {
   "display_name": "Python 3",
   "language": "python",
   "name": "python3"
  },
  "language_info": {
   "codemirror_mode": {
    "name": "ipython",
    "version": 3
   },
   "file_extension": ".py",
   "mimetype": "text/x-python",
   "name": "python",
   "nbconvert_exporter": "python",
   "pygments_lexer": "ipython3",
   "version": "3.7.4"
  }
 },
 "nbformat": 4,
 "nbformat_minor": 2
}
