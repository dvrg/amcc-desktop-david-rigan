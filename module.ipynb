{
 "nbformat": 4,
 "nbformat_minor": 2,
 "metadata": {
  "language_info": {
   "name": "python",
   "codemirror_mode": {
    "name": "ipython",
    "version": 3
   },
   "version": "3.7.4"
  },
  "orig_nbformat": 2,
  "file_extension": ".py",
  "mimetype": "text/x-python",
  "name": "python",
  "npconvert_exporter": "python",
  "pygments_lexer": "ipython3",
  "version": 3
 },
 "cells": [
  {
   "cell_type": "code",
   "execution_count": 2,
   "metadata": {},
   "outputs": [
    {
     "name": "stdout",
     "output_type": "stream",
     "text": "Commandline arguments :\n/home/genpati/anaconda3/lib/python3.7/site-packages/ipykernel_launcher.py\n-f\n/home/genpati/.local/share/jupyter/runtime/kernel-dc371388-0a4a-47f2-afc8-9339c5a4a8b6.json\n"
    }
   ],
   "source": [
    "# Menggunakan Module\n",
    "\n",
    "import sys\n",
    "print('Commandline arguments :')\n",
    "for i in sys.argv:\n",
    "    \"\"\" \n",
    "        Kita dapat memberikan argumen\n",
    "        saat menjalankan program python\n",
    "    \"\"\"\n",
    "    print(i)"
   ]
  },
  {
   "cell_type": "code",
   "execution_count": null,
   "metadata": {},
   "outputs": [],
   "source": []
  }
 ]
}